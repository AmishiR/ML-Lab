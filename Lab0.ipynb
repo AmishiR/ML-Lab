{
  "nbformat": 4,
  "nbformat_minor": 0,
  "metadata": {
    "colab": {
      "provenance": [],
      "authorship_tag": "ABX9TyNaARMXJsiCu72k6GARM6mv",
      "include_colab_link": true
    },
    "kernelspec": {
      "name": "python3",
      "display_name": "Python 3"
    },
    "language_info": {
      "name": "python"
    }
  },
  "cells": [
    {
      "cell_type": "markdown",
      "metadata": {
        "id": "view-in-github",
        "colab_type": "text"
      },
      "source": [
        "<a href=\"https://colab.research.google.com/github/AmishiR/ML-Lab/blob/main/Lab0.ipynb\" target=\"_parent\"><img src=\"https://colab.research.google.com/assets/colab-badge.svg\" alt=\"Open In Colab\"/></a>"
      ]
    },
    {
      "cell_type": "code",
      "execution_count": null,
      "metadata": {
        "colab": {
          "base_uri": "https://localhost:8080/"
        },
        "id": "pKKUtTQgxjX5",
        "outputId": "0af583a1-21d9-43f2-ed49-51e50b83c4f1"
      },
      "outputs": [
        {
          "output_type": "stream",
          "name": "stdout",
          "text": [
            "8.916666666666666\n"
          ]
        }
      ],
      "source": [
        "Credits=[3,3,1,2,2,1]\n",
        "Grades=[10.0,8.0,9.0,8.0,9.0,10.0]\n",
        "Tcredit=0\n",
        "Total=0\n",
        "for i in range(len(Credits)):\n",
        "  Total= Credits[i]*Grades[i]+Total\n",
        "  Tcredit=Credits[i]+Tcredit\n",
        "\n",
        "\n",
        "Sgpa=Total/Tcredit\n",
        "print(Sgpa)\n"
      ]
    },
    {
      "cell_type": "code",
      "source": [
        "import numpy as np"
      ],
      "metadata": {
        "id": "iACsfahU2SsQ"
      },
      "execution_count": null,
      "outputs": []
    },
    {
      "cell_type": "code",
      "source": [
        "Credits=np.array(Credits)\n",
        "Grades=np.array(Grades)\n",
        "Temp=Credits*Grades\n",
        "TCredits=np.sum(Credits)\n",
        "Total=np.sum(Temp)\n",
        "Sgpa=Total/Tcredit\n",
        "print(Sgpa)\n"
      ],
      "metadata": {
        "colab": {
          "base_uri": "https://localhost:8080/"
        },
        "id": "BxaDyaBP2ZDd",
        "outputId": "b41f424e-53de-4bca-8a7d-a88f332be152"
      },
      "execution_count": null,
      "outputs": [
        {
          "output_type": "stream",
          "name": "stdout",
          "text": [
            "8.916666666666666\n"
          ]
        }
      ]
    },
    {
      "cell_type": "code",
      "source": [
        "Sgpa=np.sum(Credits*Grades)/np.sum(Credits)\n",
        "print(Sgpa)"
      ],
      "metadata": {
        "colab": {
          "base_uri": "https://localhost:8080/"
        },
        "id": "w_32bL824Yq9",
        "outputId": "d11019a5-a8cc-437c-89b4-b89b0558d309"
      },
      "execution_count": null,
      "outputs": [
        {
          "output_type": "stream",
          "name": "stdout",
          "text": [
            "8.916666666666666\n"
          ]
        }
      ]
    },
    {
      "cell_type": "code",
      "source": [
        "Sgpa=np.dot(Credits,Grades)/np.sum(Credits)\n",
        "print(Sgpa)"
      ],
      "metadata": {
        "colab": {
          "base_uri": "https://localhost:8080/"
        },
        "id": "UZGYFhr-4u5l",
        "outputId": "f132e1d8-f3a0-4e48-cae2-4b7a3f84b30b"
      },
      "execution_count": null,
      "outputs": [
        {
          "output_type": "stream",
          "name": "stdout",
          "text": [
            "8.916666666666666\n"
          ]
        }
      ]
    },
    {
      "cell_type": "code",
      "source": [
        "#To check the shape of list or matrix\n",
        "Credits.shape"
      ],
      "metadata": {
        "colab": {
          "base_uri": "https://localhost:8080/"
        },
        "id": "90URgvu346EF",
        "outputId": "6ba59f28-7ef1-4b7d-8fad-8c1745a608af"
      },
      "execution_count": null,
      "outputs": [
        {
          "output_type": "execute_result",
          "data": {
            "text/plain": [
              "(6,)"
            ]
          },
          "metadata": {},
          "execution_count": 13
        }
      ]
    },
    {
      "cell_type": "code",
      "source": [
        "Distance=np.array([200,300,400,500,600,700])\n",
        "Time=np.array([10,30,10,25,30,70])\n",
        "Speed=Distance/Time\n",
        "print(Speed)"
      ],
      "metadata": {
        "colab": {
          "base_uri": "https://localhost:8080/"
        },
        "id": "1VCAe7aJ5FH1",
        "outputId": "770df458-2fe6-4a17-f3b5-8ed29ca945e9"
      },
      "execution_count": null,
      "outputs": [
        {
          "output_type": "stream",
          "name": "stdout",
          "text": [
            "[20. 10. 40. 20. 20. 10.]\n"
          ]
        }
      ]
    },
    {
      "cell_type": "code",
      "source": [
        "X=[1,2,3]\n",
        "print(X*3)"
      ],
      "metadata": {
        "colab": {
          "base_uri": "https://localhost:8080/"
        },
        "id": "jTMQz1FE6ied",
        "outputId": "df492d27-1122-44b2-f1e3-7153cd4b049d"
      },
      "execution_count": null,
      "outputs": [
        {
          "output_type": "stream",
          "name": "stdout",
          "text": [
            "[1, 2, 3, 1, 2, 3, 1, 2, 3]\n"
          ]
        }
      ]
    },
    {
      "cell_type": "code",
      "source": [
        "X=np.array([1,2,3,4])\n",
        "print(X*3)\n",
        "print(X/2)"
      ],
      "metadata": {
        "colab": {
          "base_uri": "https://localhost:8080/"
        },
        "id": "gWJe6awx6760",
        "outputId": "6fb1b9c2-0365-43fb-c27c-0449c40406bf"
      },
      "execution_count": null,
      "outputs": [
        {
          "output_type": "stream",
          "name": "stdout",
          "text": [
            "[ 3  6  9 12]\n",
            "[0.5 1.  1.5 2. ]\n"
          ]
        }
      ]
    },
    {
      "cell_type": "code",
      "source": [
        "Y=np.arange(100,1,-3) #When step-size is known\n",
        "Y"
      ],
      "metadata": {
        "colab": {
          "base_uri": "https://localhost:8080/"
        },
        "id": "ndw-2Clo7T_k",
        "outputId": "c2fe3102-316c-4ea4-ec2e-b31dc0a7ddf1"
      },
      "execution_count": null,
      "outputs": [
        {
          "output_type": "execute_result",
          "data": {
            "text/plain": [
              "array([100,  97,  94,  91,  88,  85,  82,  79,  76,  73,  70,  67,  64,\n",
              "        61,  58,  55,  52,  49,  46,  43,  40,  37,  34,  31,  28,  25,\n",
              "        22,  19,  16,  13,  10,   7,   4])"
            ]
          },
          "metadata": {},
          "execution_count": 23
        }
      ]
    },
    {
      "cell_type": "code",
      "source": [
        "X=np.arange(-10,50,2)\n",
        "print(X)"
      ],
      "metadata": {
        "colab": {
          "base_uri": "https://localhost:8080/"
        },
        "id": "0_yZkXCl7xh0",
        "outputId": "d8951efd-d04f-4468-e375-b83d40361b50"
      },
      "execution_count": null,
      "outputs": [
        {
          "output_type": "stream",
          "name": "stdout",
          "text": [
            "[-10  -8  -6  -4  -2   0   2   4   6   8  10  12  14  16  18  20  22  24\n",
            "  26  28  30  32  34  36  38  40  42  44  46  48]\n"
          ]
        }
      ]
    },
    {
      "cell_type": "code",
      "source": [
        "Y=np.linspace(1,100,10)\n",
        "print(Y)\n"
      ],
      "metadata": {
        "colab": {
          "base_uri": "https://localhost:8080/"
        },
        "id": "zo7KWKwD8KKE",
        "outputId": "99c2948d-97fb-450a-e795-3bcaedcc5523"
      },
      "execution_count": null,
      "outputs": [
        {
          "output_type": "stream",
          "name": "stdout",
          "text": [
            "[  1.  12.  23.  34.  45.  56.  67.  78.  89. 100.]\n"
          ]
        }
      ]
    },
    {
      "cell_type": "code",
      "source": [
        "X=np.array([2,3,4,5,67,8,90])\n",
        "print(X[-5:])"
      ],
      "metadata": {
        "colab": {
          "base_uri": "https://localhost:8080/"
        },
        "id": "D2E5ab8Z87v8",
        "outputId": "a7a2e11d-13fd-4137-c8fe-ff9634bdc35c"
      },
      "execution_count": null,
      "outputs": [
        {
          "output_type": "stream",
          "name": "stdout",
          "text": [
            "[ 4  5 67  8 90]\n"
          ]
        }
      ]
    },
    {
      "cell_type": "code",
      "source": [
        "print(np.sin(X))\n",
        "print(np.tan(X))"
      ],
      "metadata": {
        "colab": {
          "base_uri": "https://localhost:8080/"
        },
        "id": "GoO6o2BO-AZM",
        "outputId": "8a00ce48-ac9e-46f7-f2ef-e5716a9a9a76"
      },
      "execution_count": null,
      "outputs": [
        {
          "output_type": "stream",
          "name": "stdout",
          "text": [
            "[ 0.90929743  0.14112001 -0.7568025  -0.95892427 -0.85551998  0.98935825\n",
            "  0.89399666]\n",
            "[-2.18503986 -0.14254654  1.15782128 -3.38051501  1.65231726 -6.79971146\n",
            " -1.99520041]\n"
          ]
        }
      ]
    },
    {
      "cell_type": "code",
      "source": [
        "Z=(np.log(X))\n",
        "print(Z)\n",
        "Z=np.exp(Z)  #calculate inverse\n",
        "print(Z)"
      ],
      "metadata": {
        "colab": {
          "base_uri": "https://localhost:8080/"
        },
        "id": "H7Av79pB-TiM",
        "outputId": "79b08800-ee86-4bdb-fe94-2936e1645750"
      },
      "execution_count": null,
      "outputs": [
        {
          "output_type": "stream",
          "name": "stdout",
          "text": [
            "[0.69314718 1.09861229 1.38629436 1.60943791 4.20469262 2.07944154\n",
            " 4.49980967]\n",
            "[ 2.  3.  4.  5. 67.  8. 90.]\n"
          ]
        }
      ]
    },
    {
      "cell_type": "code",
      "source": [
        "X=np.arange(0,100,5)\n",
        "X_smallest=np.min(X)\n",
        "print(X_smallest)\n",
        "X_largest =np.max(X)\n",
        "print(X_largest)\n",
        "X_mean=np.mean(X)\n",
        "print(X_mean)\n",
        "X_std=np.std(X)\n",
        "print(X_std)\n",
        "print(np.var(X))"
      ],
      "metadata": {
        "colab": {
          "base_uri": "https://localhost:8080/"
        },
        "id": "lR0iXYMq-2q8",
        "outputId": "c87a3913-8d70-43bd-a4e8-8aff8d6bb073"
      },
      "execution_count": null,
      "outputs": [
        {
          "output_type": "stream",
          "name": "stdout",
          "text": [
            "0\n",
            "95\n",
            "47.5\n",
            "28.83140648667699\n",
            "831.25\n"
          ]
        }
      ]
    },
    {
      "cell_type": "markdown",
      "source": [
        "Reshaping of an Array"
      ],
      "metadata": {
        "id": "_7nvd26BAN3E"
      }
    },
    {
      "cell_type": "code",
      "source": [
        "A=np.arange(1,20,2)\n",
        "print(A)\n",
        "print(len(A))"
      ],
      "metadata": {
        "colab": {
          "base_uri": "https://localhost:8080/"
        },
        "id": "YM3zXbxLASEM",
        "outputId": "b5828709-0a54-4a8a-ce9a-e00d564f4da0"
      },
      "execution_count": null,
      "outputs": [
        {
          "output_type": "stream",
          "name": "stdout",
          "text": [
            "[ 1  3  5  7  9 11 13 15 17 19]\n",
            "10\n"
          ]
        }
      ]
    },
    {
      "cell_type": "code",
      "source": [
        "A_reshaped=A.reshape(2,5)\n",
        "print(A_reshaped)\n",
        "print(A_reshaped.shape)"
      ],
      "metadata": {
        "colab": {
          "base_uri": "https://localhost:8080/"
        },
        "id": "XeIB3GdNAjEM",
        "outputId": "e49fc0d0-b8ea-43d3-824c-d23ed6d9c4f1"
      },
      "execution_count": null,
      "outputs": [
        {
          "output_type": "stream",
          "name": "stdout",
          "text": [
            "[[ 1  3  5  7  9]\n",
            " [11 13 15 17 19]]\n",
            "(2, 5)\n"
          ]
        }
      ]
    },
    {
      "cell_type": "code",
      "source": [
        "B=A_reshaped.reshape(1,10)\n",
        "print(B)"
      ],
      "metadata": {
        "colab": {
          "base_uri": "https://localhost:8080/"
        },
        "id": "fzeHKY_1BVJc",
        "outputId": "77d07e66-04c6-4053-8b54-4e958620c4b0"
      },
      "execution_count": null,
      "outputs": [
        {
          "output_type": "stream",
          "name": "stdout",
          "text": [
            "[[ 1  3  5  7  9 11 13 15 17 19]]\n"
          ]
        }
      ]
    },
    {
      "cell_type": "code",
      "source": [
        "A=np.array([[1,2,3],[4,5,6],[7,8,9]])\n",
        "type(A)"
      ],
      "metadata": {
        "colab": {
          "base_uri": "https://localhost:8080/"
        },
        "id": "8C5SKNg1Bh3c",
        "outputId": "7ab65822-33c2-4604-9742-44822d9baf7f"
      },
      "execution_count": null,
      "outputs": [
        {
          "output_type": "execute_result",
          "data": {
            "text/plain": [
              "numpy.ndarray"
            ]
          },
          "metadata": {},
          "execution_count": 60
        }
      ]
    },
    {
      "cell_type": "code",
      "source": [
        "A=np.matrix(A)\n",
        "print(A)\n",
        "type(A)"
      ],
      "metadata": {
        "colab": {
          "base_uri": "https://localhost:8080/"
        },
        "id": "mqh8XkvUByuM",
        "outputId": "a1fbff9c-9b5d-47e5-e5b9-3c1efbe981af"
      },
      "execution_count": null,
      "outputs": [
        {
          "output_type": "stream",
          "name": "stdout",
          "text": [
            "[[1 2 3]\n",
            " [4 5 6]\n",
            " [7 8 9]]\n"
          ]
        },
        {
          "output_type": "execute_result",
          "data": {
            "text/plain": [
              "numpy.matrix"
            ]
          },
          "metadata": {},
          "execution_count": 62
        }
      ]
    },
    {
      "cell_type": "code",
      "source": [
        "Z=np.zeros(shape=(2,2))\n",
        "print(Z)\n",
        "print(Z.size) #find no of elements in matrix\n",
        "Z.shape[1]"
      ],
      "metadata": {
        "colab": {
          "base_uri": "https://localhost:8080/"
        },
        "id": "hM3duOh9CC4U",
        "outputId": "72f0b073-470e-4a32-f43c-cac87c3552f9"
      },
      "execution_count": null,
      "outputs": [
        {
          "output_type": "stream",
          "name": "stdout",
          "text": [
            "[[0. 0.]\n",
            " [0. 0.]]\n",
            "4\n"
          ]
        },
        {
          "output_type": "execute_result",
          "data": {
            "text/plain": [
              "2"
            ]
          },
          "metadata": {},
          "execution_count": 67
        }
      ]
    },
    {
      "cell_type": "code",
      "source": [
        "A=np.zeros(shape=(3,5,4))\n",
        "print(A)\n",
        "print(A.shape)\n",
        "print(A.shape[2])  #column"
      ],
      "metadata": {
        "colab": {
          "base_uri": "https://localhost:8080/"
        },
        "id": "clhiMGPyCwz0",
        "outputId": "b181f589-ffb3-431c-ce72-f07d6739802e"
      },
      "execution_count": null,
      "outputs": [
        {
          "output_type": "stream",
          "name": "stdout",
          "text": [
            "[[[0. 0. 0. 0.]\n",
            "  [0. 0. 0. 0.]\n",
            "  [0. 0. 0. 0.]\n",
            "  [0. 0. 0. 0.]\n",
            "  [0. 0. 0. 0.]]\n",
            "\n",
            " [[0. 0. 0. 0.]\n",
            "  [0. 0. 0. 0.]\n",
            "  [0. 0. 0. 0.]\n",
            "  [0. 0. 0. 0.]\n",
            "  [0. 0. 0. 0.]]\n",
            "\n",
            " [[0. 0. 0. 0.]\n",
            "  [0. 0. 0. 0.]\n",
            "  [0. 0. 0. 0.]\n",
            "  [0. 0. 0. 0.]\n",
            "  [0. 0. 0. 0.]]]\n",
            "(3, 5, 4)\n",
            "4\n"
          ]
        }
      ]
    },
    {
      "cell_type": "code",
      "source": [
        "V=np.ones((2,2))\n",
        "V"
      ],
      "metadata": {
        "colab": {
          "base_uri": "https://localhost:8080/"
        },
        "id": "0VgBYDBODVn-",
        "outputId": "ec79f981-ccc2-4dea-c5ed-8bee447f7f3a"
      },
      "execution_count": null,
      "outputs": [
        {
          "output_type": "execute_result",
          "data": {
            "text/plain": [
              "array([[1., 1.],\n",
              "       [1., 1.]])"
            ]
          },
          "metadata": {},
          "execution_count": 74
        }
      ]
    },
    {
      "cell_type": "code",
      "source": [
        "I=np.eye(3)\n",
        "I"
      ],
      "metadata": {
        "colab": {
          "base_uri": "https://localhost:8080/"
        },
        "id": "cCwiRNESDdlz",
        "outputId": "71653773-a34e-46aa-8bea-3f25571fc57f"
      },
      "execution_count": null,
      "outputs": [
        {
          "output_type": "execute_result",
          "data": {
            "text/plain": [
              "array([[1., 0., 0.],\n",
              "       [0., 1., 0.],\n",
              "       [0., 0., 1.]])"
            ]
          },
          "metadata": {},
          "execution_count": 75
        }
      ]
    },
    {
      "cell_type": "code",
      "source": [
        "I=np.eye(10)\n",
        "I*-7\n",
        "I=np.fliplr(I)\n",
        "print(I)"
      ],
      "metadata": {
        "colab": {
          "base_uri": "https://localhost:8080/"
        },
        "id": "HSFdRcLnDmZM",
        "outputId": "8a333b04-f06c-449d-c198-6fdab3a59db3"
      },
      "execution_count": null,
      "outputs": [
        {
          "output_type": "stream",
          "name": "stdout",
          "text": [
            "[[0. 0. 0. 0. 0. 0. 0. 0. 0. 1.]\n",
            " [0. 0. 0. 0. 0. 0. 0. 0. 1. 0.]\n",
            " [0. 0. 0. 0. 0. 0. 0. 1. 0. 0.]\n",
            " [0. 0. 0. 0. 0. 0. 1. 0. 0. 0.]\n",
            " [0. 0. 0. 0. 0. 1. 0. 0. 0. 0.]\n",
            " [0. 0. 0. 0. 1. 0. 0. 0. 0. 0.]\n",
            " [0. 0. 0. 1. 0. 0. 0. 0. 0. 0.]\n",
            " [0. 0. 1. 0. 0. 0. 0. 0. 0. 0.]\n",
            " [0. 1. 0. 0. 0. 0. 0. 0. 0. 0.]\n",
            " [1. 0. 0. 0. 0. 0. 0. 0. 0. 0.]]\n"
          ]
        }
      ]
    },
    {
      "cell_type": "code",
      "source": [
        "matrix=-9*np.ones(10)+2*np.eye(10)\n",
        "print(matrix)"
      ],
      "metadata": {
        "colab": {
          "base_uri": "https://localhost:8080/"
        },
        "id": "Op4QhKoZG4b7",
        "outputId": "80a65c7a-91d0-454c-cff4-c45e329ce98e"
      },
      "execution_count": null,
      "outputs": [
        {
          "output_type": "stream",
          "name": "stdout",
          "text": [
            "[[-7. -9. -9. -9. -9. -9. -9. -9. -9. -9.]\n",
            " [-9. -7. -9. -9. -9. -9. -9. -9. -9. -9.]\n",
            " [-9. -9. -7. -9. -9. -9. -9. -9. -9. -9.]\n",
            " [-9. -9. -9. -7. -9. -9. -9. -9. -9. -9.]\n",
            " [-9. -9. -9. -9. -7. -9. -9. -9. -9. -9.]\n",
            " [-9. -9. -9. -9. -9. -7. -9. -9. -9. -9.]\n",
            " [-9. -9. -9. -9. -9. -9. -7. -9. -9. -9.]\n",
            " [-9. -9. -9. -9. -9. -9. -9. -7. -9. -9.]\n",
            " [-9. -9. -9. -9. -9. -9. -9. -9. -7. -9.]\n",
            " [-9. -9. -9. -9. -9. -9. -9. -9. -9. -7.]]\n"
          ]
        }
      ]
    },
    {
      "cell_type": "code",
      "source": [
        "X=np.array([2,4,6,8,10,12,14,16,18,20])\n",
        "Y=np.array([1,1,3,7,9,3,13,5,7,9])\n",
        "Z=np.sum((X-Y)**2)\n",
        "print(Z)"
      ],
      "metadata": {
        "colab": {
          "base_uri": "https://localhost:8080/"
        },
        "id": "2dEcouutHLLr",
        "outputId": "deaa4ff8-84cc-4fe8-d679-e48341e505c0"
      },
      "execution_count": null,
      "outputs": [
        {
          "output_type": "stream",
          "name": "stdout",
          "text": [
            "466\n"
          ]
        }
      ]
    },
    {
      "cell_type": "code",
      "source": [
        "  A=np.sum(I,axis=1)\n",
        "  print(A)"
      ],
      "metadata": {
        "colab": {
          "base_uri": "https://localhost:8080/"
        },
        "id": "2yul_GNQH6hs",
        "outputId": "be95c32c-3038-4214-fd7b-4c5dc342b9e0"
      },
      "execution_count": null,
      "outputs": [
        {
          "output_type": "stream",
          "name": "stdout",
          "text": [
            "[1. 1. 1. 1. 1. 1. 1. 1. 1. 1.]\n"
          ]
        }
      ]
    }
  ]
}