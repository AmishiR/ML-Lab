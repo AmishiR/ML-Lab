{
  "cells": [
    {
      "cell_type": "markdown",
      "metadata": {
        "id": "view-in-github",
        "colab_type": "text"
      },
      "source": [
        "<a href=\"https://colab.research.google.com/github/AmishiR/ML-Lab/blob/main/ML_Lab_02_Linear_Regression_Lab_A_9_Final.ipynb\" target=\"_parent\"><img src=\"https://colab.research.google.com/assets/colab-badge.svg\" alt=\"Open In Colab\"/></a>"
      ]
    },
    {
      "cell_type": "markdown",
      "id": "23cd9705",
      "metadata": {
        "id": "23cd9705"
      },
      "source": [
        "# 📘 **<font color='blue'><b>Lab-02 Linear Regression**\n",
        "\n",
        "Welcome to the **Linear Regression Lab**! In this lab exercise, you'll implement linear regression to predict value of target variable using one and multiple variables.\n",
        "\n",
        "---\n",
        "\n",
        "## 📖  **<font color='blue'><b>Part 0: Setup & Warm-up**\n",
        "\n",
        "In this part, you'll import libraries, load data, and do a warm-up exercise."
      ]
    },
    {
      "cell_type": "code",
      "execution_count": null,
      "id": "0e308f0d",
      "metadata": {
        "id": "0e308f0d"
      },
      "outputs": [],
      "source": [
        "# =========== Setup ===============\n",
        "import numpy as np\n",
        "import pandas as pd\n",
        "import seaborn as sns\n",
        "import matplotlib.pyplot as plt\n",
        "\n",
        "# Enable better plots in notebooks\n",
        "plt.style.use('seaborn-v0_8-darkgrid')\n",
        "%matplotlib inline"
      ]
    },
    {
      "cell_type": "markdown",
      "id": "5d70c71c",
      "metadata": {
        "id": "5d70c71c"
      },
      "source": [
        "### ✅ Warm-Up Exercise\n",
        "\n",
        "Run this cell to generate a 5x5 identity matrix. This is a simple way to check that your environment is set up correctly."
      ]
    },
    {
      "cell_type": "code",
      "execution_count": null,
      "id": "fcdcfb3d",
      "metadata": {
        "id": "fcdcfb3d",
        "colab": {
          "base_uri": "https://localhost:8080/"
        },
        "outputId": "0b36c9de-6418-4407-aec2-22b80ca8a290"
      },
      "outputs": [
        {
          "output_type": "stream",
          "name": "stdout",
          "text": [
            "5x5 Identity Matrix:\n",
            "[[1. 0. 0. 0. 0.]\n",
            " [0. 1. 0. 0. 0.]\n",
            " [0. 0. 1. 0. 0.]\n",
            " [0. 0. 0. 1. 0.]\n",
            " [0. 0. 0. 0. 1.]]\n"
          ]
        }
      ],
      "source": [
        "# ========== Warm-up Exercise ==========\n",
        "\n",
        "def warmUpExercise():\n",
        "    \"\"\"Returns a 5x5 Identity matrix\"\"\"\n",
        "    A = np.eye(5)\n",
        "    return A\n",
        "\n",
        "# Run it\n",
        "print(\"5x5 Identity Matrix:\")\n",
        "print(warmUpExercise())"
      ]
    },
    {
      "cell_type": "markdown",
      "id": "1d83cdd2",
      "metadata": {
        "id": "1d83cdd2"
      },
      "source": [
        "---\n",
        "\n",
        "## 📖  **<font color='blue'><b>Part 1: Linear Regression with One Variable**\n",
        "\n",
        "In this section, you will implement linear regression to predict the profit of a food truck in a city.\n",
        "\n",
        "### 📊 Problem Statement\n",
        "\n",
        "Suppose you are the CEO of a restaurant franchise and are considering different citiesfor opening a new outlet.  The chain already has trucks in various cities and\n",
        "you have data for **profit** and **population** from the cities. The data is in `ex2data1.csv`.\n",
        "\n",
        "Your task is to fit a **univariate linear regression model** to predict profit based on population."
      ]
    },
    {
      "cell_type": "markdown",
      "id": "4240782b",
      "metadata": {
        "id": "4240782b"
      },
      "source": [
        "### 📈 Dataset Visualization\n",
        "\n",
        "Let’s load and plot the dataset to understand the relationship."
      ]
    },
    {
      "cell_type": "code",
      "execution_count": null,
      "id": "d2dcd802",
      "metadata": {
        "collapsed": true,
        "id": "d2dcd802",
        "colab": {
          "base_uri": "https://localhost:8080/",
          "height": 206
        },
        "outputId": "791d449a-305e-4c6c-baee-714075b281e3"
      },
      "outputs": [
        {
          "output_type": "execute_result",
          "data": {
            "text/plain": [
              "   Population   Profit\n",
              "0      6.1101  17.5920\n",
              "1      5.5277   9.1302\n",
              "2      8.5186  13.6620\n",
              "3      7.0032  11.8540\n",
              "4      5.8598   6.8233"
            ],
            "text/html": [
              "\n",
              "  <div id=\"df-490a4a46-994c-450c-8544-0ba6a55187c7\" class=\"colab-df-container\">\n",
              "    <div>\n",
              "<style scoped>\n",
              "    .dataframe tbody tr th:only-of-type {\n",
              "        vertical-align: middle;\n",
              "    }\n",
              "\n",
              "    .dataframe tbody tr th {\n",
              "        vertical-align: top;\n",
              "    }\n",
              "\n",
              "    .dataframe thead th {\n",
              "        text-align: right;\n",
              "    }\n",
              "</style>\n",
              "<table border=\"1\" class=\"dataframe\">\n",
              "  <thead>\n",
              "    <tr style=\"text-align: right;\">\n",
              "      <th></th>\n",
              "      <th>Population</th>\n",
              "      <th>Profit</th>\n",
              "    </tr>\n",
              "  </thead>\n",
              "  <tbody>\n",
              "    <tr>\n",
              "      <th>0</th>\n",
              "      <td>6.1101</td>\n",
              "      <td>17.5920</td>\n",
              "    </tr>\n",
              "    <tr>\n",
              "      <th>1</th>\n",
              "      <td>5.5277</td>\n",
              "      <td>9.1302</td>\n",
              "    </tr>\n",
              "    <tr>\n",
              "      <th>2</th>\n",
              "      <td>8.5186</td>\n",
              "      <td>13.6620</td>\n",
              "    </tr>\n",
              "    <tr>\n",
              "      <th>3</th>\n",
              "      <td>7.0032</td>\n",
              "      <td>11.8540</td>\n",
              "    </tr>\n",
              "    <tr>\n",
              "      <th>4</th>\n",
              "      <td>5.8598</td>\n",
              "      <td>6.8233</td>\n",
              "    </tr>\n",
              "  </tbody>\n",
              "</table>\n",
              "</div>\n",
              "    <div class=\"colab-df-buttons\">\n",
              "\n",
              "  <div class=\"colab-df-container\">\n",
              "    <button class=\"colab-df-convert\" onclick=\"convertToInteractive('df-490a4a46-994c-450c-8544-0ba6a55187c7')\"\n",
              "            title=\"Convert this dataframe to an interactive table.\"\n",
              "            style=\"display:none;\">\n",
              "\n",
              "  <svg xmlns=\"http://www.w3.org/2000/svg\" height=\"24px\" viewBox=\"0 -960 960 960\">\n",
              "    <path d=\"M120-120v-720h720v720H120Zm60-500h600v-160H180v160Zm220 220h160v-160H400v160Zm0 220h160v-160H400v160ZM180-400h160v-160H180v160Zm440 0h160v-160H620v160ZM180-180h160v-160H180v160Zm440 0h160v-160H620v160Z\"/>\n",
              "  </svg>\n",
              "    </button>\n",
              "\n",
              "  <style>\n",
              "    .colab-df-container {\n",
              "      display:flex;\n",
              "      gap: 12px;\n",
              "    }\n",
              "\n",
              "    .colab-df-convert {\n",
              "      background-color: #E8F0FE;\n",
              "      border: none;\n",
              "      border-radius: 50%;\n",
              "      cursor: pointer;\n",
              "      display: none;\n",
              "      fill: #1967D2;\n",
              "      height: 32px;\n",
              "      padding: 0 0 0 0;\n",
              "      width: 32px;\n",
              "    }\n",
              "\n",
              "    .colab-df-convert:hover {\n",
              "      background-color: #E2EBFA;\n",
              "      box-shadow: 0px 1px 2px rgba(60, 64, 67, 0.3), 0px 1px 3px 1px rgba(60, 64, 67, 0.15);\n",
              "      fill: #174EA6;\n",
              "    }\n",
              "\n",
              "    .colab-df-buttons div {\n",
              "      margin-bottom: 4px;\n",
              "    }\n",
              "\n",
              "    [theme=dark] .colab-df-convert {\n",
              "      background-color: #3B4455;\n",
              "      fill: #D2E3FC;\n",
              "    }\n",
              "\n",
              "    [theme=dark] .colab-df-convert:hover {\n",
              "      background-color: #434B5C;\n",
              "      box-shadow: 0px 1px 3px 1px rgba(0, 0, 0, 0.15);\n",
              "      filter: drop-shadow(0px 1px 2px rgba(0, 0, 0, 0.3));\n",
              "      fill: #FFFFFF;\n",
              "    }\n",
              "  </style>\n",
              "\n",
              "    <script>\n",
              "      const buttonEl =\n",
              "        document.querySelector('#df-490a4a46-994c-450c-8544-0ba6a55187c7 button.colab-df-convert');\n",
              "      buttonEl.style.display =\n",
              "        google.colab.kernel.accessAllowed ? 'block' : 'none';\n",
              "\n",
              "      async function convertToInteractive(key) {\n",
              "        const element = document.querySelector('#df-490a4a46-994c-450c-8544-0ba6a55187c7');\n",
              "        const dataTable =\n",
              "          await google.colab.kernel.invokeFunction('convertToInteractive',\n",
              "                                                    [key], {});\n",
              "        if (!dataTable) return;\n",
              "\n",
              "        const docLinkHtml = 'Like what you see? Visit the ' +\n",
              "          '<a target=\"_blank\" href=https://colab.research.google.com/notebooks/data_table.ipynb>data table notebook</a>'\n",
              "          + ' to learn more about interactive tables.';\n",
              "        element.innerHTML = '';\n",
              "        dataTable['output_type'] = 'display_data';\n",
              "        await google.colab.output.renderOutput(dataTable, element);\n",
              "        const docLink = document.createElement('div');\n",
              "        docLink.innerHTML = docLinkHtml;\n",
              "        element.appendChild(docLink);\n",
              "      }\n",
              "    </script>\n",
              "  </div>\n",
              "\n",
              "\n",
              "    <div id=\"df-ed5c5d7d-c06d-4c40-91cc-b31df92926df\">\n",
              "      <button class=\"colab-df-quickchart\" onclick=\"quickchart('df-ed5c5d7d-c06d-4c40-91cc-b31df92926df')\"\n",
              "                title=\"Suggest charts\"\n",
              "                style=\"display:none;\">\n",
              "\n",
              "<svg xmlns=\"http://www.w3.org/2000/svg\" height=\"24px\"viewBox=\"0 0 24 24\"\n",
              "     width=\"24px\">\n",
              "    <g>\n",
              "        <path d=\"M19 3H5c-1.1 0-2 .9-2 2v14c0 1.1.9 2 2 2h14c1.1 0 2-.9 2-2V5c0-1.1-.9-2-2-2zM9 17H7v-7h2v7zm4 0h-2V7h2v10zm4 0h-2v-4h2v4z\"/>\n",
              "    </g>\n",
              "</svg>\n",
              "      </button>\n",
              "\n",
              "<style>\n",
              "  .colab-df-quickchart {\n",
              "      --bg-color: #E8F0FE;\n",
              "      --fill-color: #1967D2;\n",
              "      --hover-bg-color: #E2EBFA;\n",
              "      --hover-fill-color: #174EA6;\n",
              "      --disabled-fill-color: #AAA;\n",
              "      --disabled-bg-color: #DDD;\n",
              "  }\n",
              "\n",
              "  [theme=dark] .colab-df-quickchart {\n",
              "      --bg-color: #3B4455;\n",
              "      --fill-color: #D2E3FC;\n",
              "      --hover-bg-color: #434B5C;\n",
              "      --hover-fill-color: #FFFFFF;\n",
              "      --disabled-bg-color: #3B4455;\n",
              "      --disabled-fill-color: #666;\n",
              "  }\n",
              "\n",
              "  .colab-df-quickchart {\n",
              "    background-color: var(--bg-color);\n",
              "    border: none;\n",
              "    border-radius: 50%;\n",
              "    cursor: pointer;\n",
              "    display: none;\n",
              "    fill: var(--fill-color);\n",
              "    height: 32px;\n",
              "    padding: 0;\n",
              "    width: 32px;\n",
              "  }\n",
              "\n",
              "  .colab-df-quickchart:hover {\n",
              "    background-color: var(--hover-bg-color);\n",
              "    box-shadow: 0 1px 2px rgba(60, 64, 67, 0.3), 0 1px 3px 1px rgba(60, 64, 67, 0.15);\n",
              "    fill: var(--button-hover-fill-color);\n",
              "  }\n",
              "\n",
              "  .colab-df-quickchart-complete:disabled,\n",
              "  .colab-df-quickchart-complete:disabled:hover {\n",
              "    background-color: var(--disabled-bg-color);\n",
              "    fill: var(--disabled-fill-color);\n",
              "    box-shadow: none;\n",
              "  }\n",
              "\n",
              "  .colab-df-spinner {\n",
              "    border: 2px solid var(--fill-color);\n",
              "    border-color: transparent;\n",
              "    border-bottom-color: var(--fill-color);\n",
              "    animation:\n",
              "      spin 1s steps(1) infinite;\n",
              "  }\n",
              "\n",
              "  @keyframes spin {\n",
              "    0% {\n",
              "      border-color: transparent;\n",
              "      border-bottom-color: var(--fill-color);\n",
              "      border-left-color: var(--fill-color);\n",
              "    }\n",
              "    20% {\n",
              "      border-color: transparent;\n",
              "      border-left-color: var(--fill-color);\n",
              "      border-top-color: var(--fill-color);\n",
              "    }\n",
              "    30% {\n",
              "      border-color: transparent;\n",
              "      border-left-color: var(--fill-color);\n",
              "      border-top-color: var(--fill-color);\n",
              "      border-right-color: var(--fill-color);\n",
              "    }\n",
              "    40% {\n",
              "      border-color: transparent;\n",
              "      border-right-color: var(--fill-color);\n",
              "      border-top-color: var(--fill-color);\n",
              "    }\n",
              "    60% {\n",
              "      border-color: transparent;\n",
              "      border-right-color: var(--fill-color);\n",
              "    }\n",
              "    80% {\n",
              "      border-color: transparent;\n",
              "      border-right-color: var(--fill-color);\n",
              "      border-bottom-color: var(--fill-color);\n",
              "    }\n",
              "    90% {\n",
              "      border-color: transparent;\n",
              "      border-bottom-color: var(--fill-color);\n",
              "    }\n",
              "  }\n",
              "</style>\n",
              "\n",
              "      <script>\n",
              "        async function quickchart(key) {\n",
              "          const quickchartButtonEl =\n",
              "            document.querySelector('#' + key + ' button');\n",
              "          quickchartButtonEl.disabled = true;  // To prevent multiple clicks.\n",
              "          quickchartButtonEl.classList.add('colab-df-spinner');\n",
              "          try {\n",
              "            const charts = await google.colab.kernel.invokeFunction(\n",
              "                'suggestCharts', [key], {});\n",
              "          } catch (error) {\n",
              "            console.error('Error during call to suggestCharts:', error);\n",
              "          }\n",
              "          quickchartButtonEl.classList.remove('colab-df-spinner');\n",
              "          quickchartButtonEl.classList.add('colab-df-quickchart-complete');\n",
              "        }\n",
              "        (() => {\n",
              "          let quickchartButtonEl =\n",
              "            document.querySelector('#df-ed5c5d7d-c06d-4c40-91cc-b31df92926df button');\n",
              "          quickchartButtonEl.style.display =\n",
              "            google.colab.kernel.accessAllowed ? 'block' : 'none';\n",
              "        })();\n",
              "      </script>\n",
              "    </div>\n",
              "\n",
              "    </div>\n",
              "  </div>\n"
            ],
            "application/vnd.google.colaboratory.intrinsic+json": {
              "type": "dataframe",
              "variable_name": "data",
              "summary": "{\n  \"name\": \"data\",\n  \"rows\": 97,\n  \"fields\": [\n    {\n      \"column\": \"Population\",\n      \"properties\": {\n        \"dtype\": \"number\",\n        \"std\": 3.869883527882332,\n        \"min\": 5.0269,\n        \"max\": 22.203,\n        \"num_unique_values\": 97,\n        \"samples\": [\n          21.279,\n          5.4069,\n          5.3054\n        ],\n        \"semantic_type\": \"\",\n        \"description\": \"\"\n      }\n    },\n    {\n      \"column\": \"Profit\",\n      \"properties\": {\n        \"dtype\": \"number\",\n        \"std\": 5.510262255231544,\n        \"min\": -2.6807,\n        \"max\": 24.147,\n        \"num_unique_values\": 97,\n        \"samples\": [\n          17.929,\n          0.55657,\n          1.9869\n        ],\n        \"semantic_type\": \"\",\n        \"description\": \"\"\n      }\n    }\n  ]\n}"
            }
          },
          "metadata": {},
          "execution_count": 8
        }
      ],
      "source": [
        "# ========== Load Dataset ==========\n",
        "# TODO: Load ex2data1.csv for one variable linear regression\n",
        "data = pd.read_csv(\"ex1data1.csv\", header=None, names=[\"Population\", \"Profit\"])\n",
        "data.describe()\n",
        "data.head()"
      ]
    },
    {
      "cell_type": "code",
      "source": [
        "data.describe()"
      ],
      "metadata": {
        "colab": {
          "base_uri": "https://localhost:8080/",
          "height": 300
        },
        "id": "6jYKmKaw8bgV",
        "outputId": "c2fcc301-649f-4b39-b2c9-c8fce2dcc0e7"
      },
      "id": "6jYKmKaw8bgV",
      "execution_count": null,
      "outputs": [
        {
          "output_type": "execute_result",
          "data": {
            "text/plain": [
              "       Population     Profit\n",
              "count   97.000000  97.000000\n",
              "mean     8.159800   5.839135\n",
              "std      3.869884   5.510262\n",
              "min      5.026900  -2.680700\n",
              "25%      5.707700   1.986900\n",
              "50%      6.589400   4.562300\n",
              "75%      8.578100   7.046700\n",
              "max     22.203000  24.147000"
            ],
            "text/html": [
              "\n",
              "  <div id=\"df-db3ccbc3-85ea-4e58-aebb-bc696ec35534\" class=\"colab-df-container\">\n",
              "    <div>\n",
              "<style scoped>\n",
              "    .dataframe tbody tr th:only-of-type {\n",
              "        vertical-align: middle;\n",
              "    }\n",
              "\n",
              "    .dataframe tbody tr th {\n",
              "        vertical-align: top;\n",
              "    }\n",
              "\n",
              "    .dataframe thead th {\n",
              "        text-align: right;\n",
              "    }\n",
              "</style>\n",
              "<table border=\"1\" class=\"dataframe\">\n",
              "  <thead>\n",
              "    <tr style=\"text-align: right;\">\n",
              "      <th></th>\n",
              "      <th>Population</th>\n",
              "      <th>Profit</th>\n",
              "    </tr>\n",
              "  </thead>\n",
              "  <tbody>\n",
              "    <tr>\n",
              "      <th>count</th>\n",
              "      <td>97.000000</td>\n",
              "      <td>97.000000</td>\n",
              "    </tr>\n",
              "    <tr>\n",
              "      <th>mean</th>\n",
              "      <td>8.159800</td>\n",
              "      <td>5.839135</td>\n",
              "    </tr>\n",
              "    <tr>\n",
              "      <th>std</th>\n",
              "      <td>3.869884</td>\n",
              "      <td>5.510262</td>\n",
              "    </tr>\n",
              "    <tr>\n",
              "      <th>min</th>\n",
              "      <td>5.026900</td>\n",
              "      <td>-2.680700</td>\n",
              "    </tr>\n",
              "    <tr>\n",
              "      <th>25%</th>\n",
              "      <td>5.707700</td>\n",
              "      <td>1.986900</td>\n",
              "    </tr>\n",
              "    <tr>\n",
              "      <th>50%</th>\n",
              "      <td>6.589400</td>\n",
              "      <td>4.562300</td>\n",
              "    </tr>\n",
              "    <tr>\n",
              "      <th>75%</th>\n",
              "      <td>8.578100</td>\n",
              "      <td>7.046700</td>\n",
              "    </tr>\n",
              "    <tr>\n",
              "      <th>max</th>\n",
              "      <td>22.203000</td>\n",
              "      <td>24.147000</td>\n",
              "    </tr>\n",
              "  </tbody>\n",
              "</table>\n",
              "</div>\n",
              "    <div class=\"colab-df-buttons\">\n",
              "\n",
              "  <div class=\"colab-df-container\">\n",
              "    <button class=\"colab-df-convert\" onclick=\"convertToInteractive('df-db3ccbc3-85ea-4e58-aebb-bc696ec35534')\"\n",
              "            title=\"Convert this dataframe to an interactive table.\"\n",
              "            style=\"display:none;\">\n",
              "\n",
              "  <svg xmlns=\"http://www.w3.org/2000/svg\" height=\"24px\" viewBox=\"0 -960 960 960\">\n",
              "    <path d=\"M120-120v-720h720v720H120Zm60-500h600v-160H180v160Zm220 220h160v-160H400v160Zm0 220h160v-160H400v160ZM180-400h160v-160H180v160Zm440 0h160v-160H620v160ZM180-180h160v-160H180v160Zm440 0h160v-160H620v160Z\"/>\n",
              "  </svg>\n",
              "    </button>\n",
              "\n",
              "  <style>\n",
              "    .colab-df-container {\n",
              "      display:flex;\n",
              "      gap: 12px;\n",
              "    }\n",
              "\n",
              "    .colab-df-convert {\n",
              "      background-color: #E8F0FE;\n",
              "      border: none;\n",
              "      border-radius: 50%;\n",
              "      cursor: pointer;\n",
              "      display: none;\n",
              "      fill: #1967D2;\n",
              "      height: 32px;\n",
              "      padding: 0 0 0 0;\n",
              "      width: 32px;\n",
              "    }\n",
              "\n",
              "    .colab-df-convert:hover {\n",
              "      background-color: #E2EBFA;\n",
              "      box-shadow: 0px 1px 2px rgba(60, 64, 67, 0.3), 0px 1px 3px 1px rgba(60, 64, 67, 0.15);\n",
              "      fill: #174EA6;\n",
              "    }\n",
              "\n",
              "    .colab-df-buttons div {\n",
              "      margin-bottom: 4px;\n",
              "    }\n",
              "\n",
              "    [theme=dark] .colab-df-convert {\n",
              "      background-color: #3B4455;\n",
              "      fill: #D2E3FC;\n",
              "    }\n",
              "\n",
              "    [theme=dark] .colab-df-convert:hover {\n",
              "      background-color: #434B5C;\n",
              "      box-shadow: 0px 1px 3px 1px rgba(0, 0, 0, 0.15);\n",
              "      filter: drop-shadow(0px 1px 2px rgba(0, 0, 0, 0.3));\n",
              "      fill: #FFFFFF;\n",
              "    }\n",
              "  </style>\n",
              "\n",
              "    <script>\n",
              "      const buttonEl =\n",
              "        document.querySelector('#df-db3ccbc3-85ea-4e58-aebb-bc696ec35534 button.colab-df-convert');\n",
              "      buttonEl.style.display =\n",
              "        google.colab.kernel.accessAllowed ? 'block' : 'none';\n",
              "\n",
              "      async function convertToInteractive(key) {\n",
              "        const element = document.querySelector('#df-db3ccbc3-85ea-4e58-aebb-bc696ec35534');\n",
              "        const dataTable =\n",
              "          await google.colab.kernel.invokeFunction('convertToInteractive',\n",
              "                                                    [key], {});\n",
              "        if (!dataTable) return;\n",
              "\n",
              "        const docLinkHtml = 'Like what you see? Visit the ' +\n",
              "          '<a target=\"_blank\" href=https://colab.research.google.com/notebooks/data_table.ipynb>data table notebook</a>'\n",
              "          + ' to learn more about interactive tables.';\n",
              "        element.innerHTML = '';\n",
              "        dataTable['output_type'] = 'display_data';\n",
              "        await google.colab.output.renderOutput(dataTable, element);\n",
              "        const docLink = document.createElement('div');\n",
              "        docLink.innerHTML = docLinkHtml;\n",
              "        element.appendChild(docLink);\n",
              "      }\n",
              "    </script>\n",
              "  </div>\n",
              "\n",
              "\n",
              "    <div id=\"df-d8d00c4b-32f1-471a-baec-caba2db9acd6\">\n",
              "      <button class=\"colab-df-quickchart\" onclick=\"quickchart('df-d8d00c4b-32f1-471a-baec-caba2db9acd6')\"\n",
              "                title=\"Suggest charts\"\n",
              "                style=\"display:none;\">\n",
              "\n",
              "<svg xmlns=\"http://www.w3.org/2000/svg\" height=\"24px\"viewBox=\"0 0 24 24\"\n",
              "     width=\"24px\">\n",
              "    <g>\n",
              "        <path d=\"M19 3H5c-1.1 0-2 .9-2 2v14c0 1.1.9 2 2 2h14c1.1 0 2-.9 2-2V5c0-1.1-.9-2-2-2zM9 17H7v-7h2v7zm4 0h-2V7h2v10zm4 0h-2v-4h2v4z\"/>\n",
              "    </g>\n",
              "</svg>\n",
              "      </button>\n",
              "\n",
              "<style>\n",
              "  .colab-df-quickchart {\n",
              "      --bg-color: #E8F0FE;\n",
              "      --fill-color: #1967D2;\n",
              "      --hover-bg-color: #E2EBFA;\n",
              "      --hover-fill-color: #174EA6;\n",
              "      --disabled-fill-color: #AAA;\n",
              "      --disabled-bg-color: #DDD;\n",
              "  }\n",
              "\n",
              "  [theme=dark] .colab-df-quickchart {\n",
              "      --bg-color: #3B4455;\n",
              "      --fill-color: #D2E3FC;\n",
              "      --hover-bg-color: #434B5C;\n",
              "      --hover-fill-color: #FFFFFF;\n",
              "      --disabled-bg-color: #3B4455;\n",
              "      --disabled-fill-color: #666;\n",
              "  }\n",
              "\n",
              "  .colab-df-quickchart {\n",
              "    background-color: var(--bg-color);\n",
              "    border: none;\n",
              "    border-radius: 50%;\n",
              "    cursor: pointer;\n",
              "    display: none;\n",
              "    fill: var(--fill-color);\n",
              "    height: 32px;\n",
              "    padding: 0;\n",
              "    width: 32px;\n",
              "  }\n",
              "\n",
              "  .colab-df-quickchart:hover {\n",
              "    background-color: var(--hover-bg-color);\n",
              "    box-shadow: 0 1px 2px rgba(60, 64, 67, 0.3), 0 1px 3px 1px rgba(60, 64, 67, 0.15);\n",
              "    fill: var(--button-hover-fill-color);\n",
              "  }\n",
              "\n",
              "  .colab-df-quickchart-complete:disabled,\n",
              "  .colab-df-quickchart-complete:disabled:hover {\n",
              "    background-color: var(--disabled-bg-color);\n",
              "    fill: var(--disabled-fill-color);\n",
              "    box-shadow: none;\n",
              "  }\n",
              "\n",
              "  .colab-df-spinner {\n",
              "    border: 2px solid var(--fill-color);\n",
              "    border-color: transparent;\n",
              "    border-bottom-color: var(--fill-color);\n",
              "    animation:\n",
              "      spin 1s steps(1) infinite;\n",
              "  }\n",
              "\n",
              "  @keyframes spin {\n",
              "    0% {\n",
              "      border-color: transparent;\n",
              "      border-bottom-color: var(--fill-color);\n",
              "      border-left-color: var(--fill-color);\n",
              "    }\n",
              "    20% {\n",
              "      border-color: transparent;\n",
              "      border-left-color: var(--fill-color);\n",
              "      border-top-color: var(--fill-color);\n",
              "    }\n",
              "    30% {\n",
              "      border-color: transparent;\n",
              "      border-left-color: var(--fill-color);\n",
              "      border-top-color: var(--fill-color);\n",
              "      border-right-color: var(--fill-color);\n",
              "    }\n",
              "    40% {\n",
              "      border-color: transparent;\n",
              "      border-right-color: var(--fill-color);\n",
              "      border-top-color: var(--fill-color);\n",
              "    }\n",
              "    60% {\n",
              "      border-color: transparent;\n",
              "      border-right-color: var(--fill-color);\n",
              "    }\n",
              "    80% {\n",
              "      border-color: transparent;\n",
              "      border-right-color: var(--fill-color);\n",
              "      border-bottom-color: var(--fill-color);\n",
              "    }\n",
              "    90% {\n",
              "      border-color: transparent;\n",
              "      border-bottom-color: var(--fill-color);\n",
              "    }\n",
              "  }\n",
              "</style>\n",
              "\n",
              "      <script>\n",
              "        async function quickchart(key) {\n",
              "          const quickchartButtonEl =\n",
              "            document.querySelector('#' + key + ' button');\n",
              "          quickchartButtonEl.disabled = true;  // To prevent multiple clicks.\n",
              "          quickchartButtonEl.classList.add('colab-df-spinner');\n",
              "          try {\n",
              "            const charts = await google.colab.kernel.invokeFunction(\n",
              "                'suggestCharts', [key], {});\n",
              "          } catch (error) {\n",
              "            console.error('Error during call to suggestCharts:', error);\n",
              "          }\n",
              "          quickchartButtonEl.classList.remove('colab-df-spinner');\n",
              "          quickchartButtonEl.classList.add('colab-df-quickchart-complete');\n",
              "        }\n",
              "        (() => {\n",
              "          let quickchartButtonEl =\n",
              "            document.querySelector('#df-d8d00c4b-32f1-471a-baec-caba2db9acd6 button');\n",
              "          quickchartButtonEl.style.display =\n",
              "            google.colab.kernel.accessAllowed ? 'block' : 'none';\n",
              "        })();\n",
              "      </script>\n",
              "    </div>\n",
              "\n",
              "    </div>\n",
              "  </div>\n"
            ],
            "application/vnd.google.colaboratory.intrinsic+json": {
              "type": "dataframe",
              "summary": "{\n  \"name\": \"data\",\n  \"rows\": 8,\n  \"fields\": [\n    {\n      \"column\": \"Population\",\n      \"properties\": {\n        \"dtype\": \"number\",\n        \"std\": 31.784914602764157,\n        \"min\": 3.869883527882332,\n        \"max\": 97.0,\n        \"num_unique_values\": 8,\n        \"samples\": [\n          8.159799999999999,\n          6.5894,\n          97.0\n        ],\n        \"semantic_type\": \"\",\n        \"description\": \"\"\n      }\n    },\n    {\n      \"column\": \"Profit\",\n      \"properties\": {\n        \"dtype\": \"number\",\n        \"std\": 32.87917231164401,\n        \"min\": -2.6807,\n        \"max\": 97.0,\n        \"num_unique_values\": 8,\n        \"samples\": [\n          5.839135051546393,\n          4.5623,\n          97.0\n        ],\n        \"semantic_type\": \"\",\n        \"description\": \"\"\n      }\n    }\n  ]\n}"
            }
          },
          "metadata": {},
          "execution_count": 10
        }
      ]
    },
    {
      "cell_type": "code",
      "source": [
        "data.shape"
      ],
      "metadata": {
        "colab": {
          "base_uri": "https://localhost:8080/"
        },
        "id": "hW3DGWT-8epV",
        "outputId": "aa6494cd-1f69-48a5-bebe-9453fa5406c2"
      },
      "id": "hW3DGWT-8epV",
      "execution_count": null,
      "outputs": [
        {
          "output_type": "execute_result",
          "data": {
            "text/plain": [
              "(97, 2)"
            ]
          },
          "metadata": {},
          "execution_count": 11
        }
      ]
    },
    {
      "cell_type": "code",
      "source": [
        "# Verify any null value\n",
        "data.isnull().sum()"
      ],
      "metadata": {
        "colab": {
          "base_uri": "https://localhost:8080/",
          "height": 147
        },
        "id": "Hc4zPYqv8mgd",
        "outputId": "80713436-890d-4f67-a5ba-373f02842241"
      },
      "id": "Hc4zPYqv8mgd",
      "execution_count": null,
      "outputs": [
        {
          "output_type": "execute_result",
          "data": {
            "text/plain": [
              "Population    0\n",
              "Profit        0\n",
              "dtype: int64"
            ],
            "text/html": [
              "<div>\n",
              "<style scoped>\n",
              "    .dataframe tbody tr th:only-of-type {\n",
              "        vertical-align: middle;\n",
              "    }\n",
              "\n",
              "    .dataframe tbody tr th {\n",
              "        vertical-align: top;\n",
              "    }\n",
              "\n",
              "    .dataframe thead th {\n",
              "        text-align: right;\n",
              "    }\n",
              "</style>\n",
              "<table border=\"1\" class=\"dataframe\">\n",
              "  <thead>\n",
              "    <tr style=\"text-align: right;\">\n",
              "      <th></th>\n",
              "      <th>0</th>\n",
              "    </tr>\n",
              "  </thead>\n",
              "  <tbody>\n",
              "    <tr>\n",
              "      <th>Population</th>\n",
              "      <td>0</td>\n",
              "    </tr>\n",
              "    <tr>\n",
              "      <th>Profit</th>\n",
              "      <td>0</td>\n",
              "    </tr>\n",
              "  </tbody>\n",
              "</table>\n",
              "</div><br><label><b>dtype:</b> int64</label>"
            ]
          },
          "metadata": {},
          "execution_count": 13
        }
      ]
    },
    {
      "cell_type": "code",
      "source": [
        "X =data.info(\"Population\")"
      ],
      "metadata": {
        "colab": {
          "base_uri": "https://localhost:8080/"
        },
        "id": "LqEpQe3G9Hj0",
        "outputId": "c1350aa4-b715-4fb1-ba75-ddb22b32b0cf"
      },
      "id": "LqEpQe3G9Hj0",
      "execution_count": null,
      "outputs": [
        {
          "output_type": "stream",
          "name": "stdout",
          "text": [
            "<class 'pandas.core.frame.DataFrame'>\n",
            "RangeIndex: 97 entries, 0 to 96\n",
            "Data columns (total 2 columns):\n",
            " #   Column      Non-Null Count  Dtype  \n",
            "---  ------      --------------  -----  \n",
            " 0   Population  97 non-null     float64\n",
            " 1   Profit      97 non-null     float64\n",
            "dtypes: float64(2)\n",
            "memory usage: 1.6 KB\n"
          ]
        }
      ]
    },
    {
      "cell_type": "code",
      "source": [
        "X =data[['Population']]"
      ],
      "metadata": {
        "id": "OXM2XSDp9i3N"
      },
      "id": "OXM2XSDp9i3N",
      "execution_count": null,
      "outputs": []
    },
    {
      "cell_type": "code",
      "source": [
        "# seperate the fetaures and the target variable in X and y respectively\n",
        "X =data[['Population']]\n",
        "y =data[['Profit']]\n",
        "m =y.size  # number of training examples"
      ],
      "metadata": {
        "id": "PbjBQjwpDmsD"
      },
      "id": "PbjBQjwpDmsD",
      "execution_count": null,
      "outputs": []
    },
    {
      "cell_type": "code",
      "source": [
        "# Visualize the data\n",
        "plt.figure(figsize=(8,5))\n",
        "plt.plot(X, y, 'rx', markersize=5)\n",
        "plt.xlabel('Population of City (10,000s)')\n",
        "plt.ylabel('Profit ($10,000s)')\n",
        "plt.title('Training Data')\n",
        "plt.show()"
      ],
      "metadata": {
        "id": "4Pru7WflDfL2",
        "colab": {
          "base_uri": "https://localhost:8080/",
          "height": 480
        },
        "outputId": "ca27e6bf-caad-4532-c15f-bc9d8703381f"
      },
      "id": "4Pru7WflDfL2",
      "execution_count": null,
      "outputs": [
        {
          "output_type": "display_data",
          "data": {
            "text/plain": [
              "<Figure size 800x500 with 1 Axes>"
            ],
            "image/png": "[encoded data removed]"
          },
          "metadata": {}
        }
      ]
    },
    {
      "cell_type": "markdown",
      "source": [
        "# Prepare the data for vectorized implemenation"
      ],
      "metadata": {
        "id": "vHIt1wczDDEA"
      },
      "id": "vHIt1wczDDEA"
    },
    {
      "cell_type": "code",
      "source": [
        "ones=np.ones(97)"
      ],
      "metadata": {
        "id": "hWcOSTIcBER0"
      },
      "id": "hWcOSTIcBER0",
      "execution_count": null,
      "outputs": []
    },
    {
      "cell_type": "code",
      "source": [
        "#Add intercept term to X and convert it into numpy array\n",
        "#insert a column of ones at the zeroth index in the feature matrix X\n",
        "X.insert(0,'ones',1)\n"
      ],
      "metadata": {
        "collapsed": true,
        "id": "Jm1vY2_9DMb9"
      },
      "id": "Jm1vY2_9DMb9",
      "execution_count": null,
      "outputs": []
    },
    {
      "cell_type": "code",
      "source": [
        "X.head()"
      ],
      "metadata": {
        "colab": {
          "base_uri": "https://localhost:8080/",
          "height": 206
        },
        "id": "CdOKEAcMBxwU",
        "outputId": "2a88b18e-965f-4239-bebd-0f75690727ce"
      },
      "id": "CdOKEAcMBxwU",
      "execution_count": null,
      "outputs": [
        {
          "output_type": "execute_result",
          "data": {
            "text/plain": [
              "   ones  Population\n",
              "0     1      6.1101\n",
              "1     1      5.5277\n",
              "2     1      8.5186\n",
              "3     1      7.0032\n",
              "4     1      5.8598"
            ],
            "text/html": [
              "\n",
              "  <div id=\"df-e628c4f5-d377-403f-8026-a603d4b7d725\" class=\"colab-df-container\">\n",
              "    <div>\n",
              "<style scoped>\n",
              "    .dataframe tbody tr th:only-of-type {\n",
              "        vertical-align: middle;\n",
              "    }\n",
              "\n",
              "    .dataframe tbody tr th {\n",
              "        vertical-align: top;\n",
              "    }\n",
              "\n",
              "    .dataframe thead th {\n",
              "        text-align: right;\n",
              "    }\n",
              "</style>\n",
              "<table border=\"1\" class=\"dataframe\">\n",
              "  <thead>\n",
              "    <tr style=\"text-align: right;\">\n",
              "      <th></th>\n",
              "      <th>ones</th>\n",
              "      <th>Population</th>\n",
              "    </tr>\n",
              "  </thead>\n",
              "  <tbody>\n",
              "    <tr>\n",
              "      <th>0</th>\n",
              "      <td>1</td>\n",
              "      <td>6.1101</td>\n",
              "    </tr>\n",
              "    <tr>\n",
              "      <th>1</th>\n",
              "      <td>1</td>\n",
              "      <td>5.5277</td>\n",
              "    </tr>\n",
              "    <tr>\n",
              "      <th>2</th>\n",
              "      <td>1</td>\n",
              "      <td>8.5186</td>\n",
              "    </tr>\n",
              "    <tr>\n",
              "      <th>3</th>\n",
              "      <td>1</td>\n",
              "      <td>7.0032</td>\n",
              "    </tr>\n",
              "    <tr>\n",
              "      <th>4</th>\n",
              "      <td>1</td>\n",
              "      <td>5.8598</td>\n",
              "    </tr>\n",
              "  </tbody>\n",
              "</table>\n",
              "</div>\n",
              "    <div class=\"colab-df-buttons\">\n",
              "\n",
              "  <div class=\"colab-df-container\">\n",
              "    <button class=\"colab-df-convert\" onclick=\"convertToInteractive('df-e628c4f5-d377-403f-8026-a603d4b7d725')\"\n",
              "            title=\"Convert this dataframe to an interactive table.\"\n",
              "            style=\"display:none;\">\n",
              "\n",
              "  <svg xmlns=\"http://www.w3.org/2000/svg\" height=\"24px\" viewBox=\"0 -960 960 960\">\n",
              "    <path d=\"M120-120v-720h720v720H120Zm60-500h600v-160H180v160Zm220 220h160v-160H400v160Zm0 220h160v-160H400v160ZM180-400h160v-160H180v160Zm440 0h160v-160H620v160ZM180-180h160v-160H180v160Zm440 0h160v-160H620v160Z\"/>\n",
              "  </svg>\n",
              "    </button>\n",
              "\n",
              "  <style>\n",
              "    .colab-df-container {\n",
              "      display:flex;\n",
              "      gap: 12px;\n",
              "    }\n",
              "\n",
              "    .colab-df-convert {\n",
              "      background-color: #E8F0FE;\n",
              "      border: none;\n",
              "      border-radius: 50%;\n",
              "      cursor: pointer;\n",
              "      display: none;\n",
              "      fill: #1967D2;\n",
              "      height: 32px;\n",
              "      padding: 0 0 0 0;\n",
              "      width: 32px;\n",
              "    }\n",
              "\n",
              "    .colab-df-convert:hover {\n",
              "      background-color: #E2EBFA;\n",
              "      box-shadow: 0px 1px 2px rgba(60, 64, 67, 0.3), 0px 1px 3px 1px rgba(60, 64, 67, 0.15);\n",
              "      fill: #174EA6;\n",
              "    }\n",
              "\n",
              "    .colab-df-buttons div {\n",
              "      margin-bottom: 4px;\n",
              "    }\n",
              "\n",
              "    [theme=dark] .colab-df-convert {\n",
              "      background-color: #3B4455;\n",
              "      fill: #D2E3FC;\n",
              "    }\n",
              "\n",
              "    [theme=dark] .colab-df-convert:hover {\n",
              "      background-color: #434B5C;\n",
              "      box-shadow: 0px 1px 3px 1px rgba(0, 0, 0, 0.15);\n",
              "      filter: drop-shadow(0px 1px 2px rgba(0, 0, 0, 0.3));\n",
              "      fill: #FFFFFF;\n",
              "    }\n",
              "  </style>\n",
              "\n",
              "    <script>\n",
              "      const buttonEl =\n",
              "        document.querySelector('#df-e628c4f5-d377-403f-8026-a603d4b7d725 button.colab-df-convert');\n",
              "      buttonEl.style.display =\n",
              "        google.colab.kernel.accessAllowed ? 'block' : 'none';\n",
              "\n",
              "      async function convertToInteractive(key) {\n",
              "        const element = document.querySelector('#df-e628c4f5-d377-403f-8026-a603d4b7d725');\n",
              "        const dataTable =\n",
              "          await google.colab.kernel.invokeFunction('convertToInteractive',\n",
              "                                                    [key], {});\n",
              "        if (!dataTable) return;\n",
              "\n",
              "        const docLinkHtml = 'Like what you see? Visit the ' +\n",
              "          '<a target=\"_blank\" href=https://colab.research.google.com/notebooks/data_table.ipynb>data table notebook</a>'\n",
              "          + ' to learn more about interactive tables.';\n",
              "        element.innerHTML = '';\n",
              "        dataTable['output_type'] = 'display_data';\n",
              "        await google.colab.output.renderOutput(dataTable, element);\n",
              "        const docLink = document.createElement('div');\n",
              "        docLink.innerHTML = docLinkHtml;\n",
              "        element.appendChild(docLink);\n",
              "      }\n",
              "    </script>\n",
              "  </div>\n",
              "\n",
              "\n",
              "    <div id=\"df-88cb2d61-3093-4f44-8602-7d123ee8ead8\">\n",
              "      <button class=\"colab-df-quickchart\" onclick=\"quickchart('df-88cb2d61-3093-4f44-8602-7d123ee8ead8')\"\n",
              "                title=\"Suggest charts\"\n",
              "                style=\"display:none;\">\n",
              "\n",
              "<svg xmlns=\"http://www.w3.org/2000/svg\" height=\"24px\"viewBox=\"0 0 24 24\"\n",
              "     width=\"24px\">\n",
              "    <g>\n",
              "        <path d=\"M19 3H5c-1.1 0-2 .9-2 2v14c0 1.1.9 2 2 2h14c1.1 0 2-.9 2-2V5c0-1.1-.9-2-2-2zM9 17H7v-7h2v7zm4 0h-2V7h2v10zm4 0h-2v-4h2v4z\"/>\n",
              "    </g>\n",
              "</svg>\n",
              "      </button>\n",
              "\n",
              "<style>\n",
              "  .colab-df-quickchart {\n",
              "      --bg-color: #E8F0FE;\n",
              "      --fill-color: #1967D2;\n",
              "      --hover-bg-color: #E2EBFA;\n",
              "      --hover-fill-color: #174EA6;\n",
              "      --disabled-fill-color: #AAA;\n",
              "      --disabled-bg-color: #DDD;\n",
              "  }\n",
              "\n",
              "  [theme=dark] .colab-df-quickchart {\n",
              "      --bg-color: #3B4455;\n",
              "      --fill-color: #D2E3FC;\n",
              "      --hover-bg-color: #434B5C;\n",
              "      --hover-fill-color: #FFFFFF;\n",
              "      --disabled-bg-color: #3B4455;\n",
              "      --disabled-fill-color: #666;\n",
              "  }\n",
              "\n",
              "  .colab-df-quickchart {\n",
              "    background-color: var(--bg-color);\n",
              "    border: none;\n",
              "    border-radius: 50%;\n",
              "    cursor: pointer;\n",
              "    display: none;\n",
              "    fill: var(--fill-color);\n",
              "    height: 32px;\n",
              "    padding: 0;\n",
              "    width: 32px;\n",
              "  }\n",
              "\n",
              "  .colab-df-quickchart:hover {\n",
              "    background-color: var(--hover-bg-color);\n",
              "    box-shadow: 0 1px 2px rgba(60, 64, 67, 0.3), 0 1px 3px 1px rgba(60, 64, 67, 0.15);\n",
              "    fill: var(--button-hover-fill-color);\n",
              "  }\n",
              "\n",
              "  .colab-df-quickchart-complete:disabled,\n",
              "  .colab-df-quickchart-complete:disabled:hover {\n",
              "    background-color: var(--disabled-bg-color);\n",
              "    fill: var(--disabled-fill-color);\n",
              "    box-shadow: none;\n",
              "  }\n",
              "\n",
              "  .colab-df-spinner {\n",
              "    border: 2px solid var(--fill-color);\n",
              "    border-color: transparent;\n",
              "    border-bottom-color: var(--fill-color);\n",
              "    animation:\n",
              "      spin 1s steps(1) infinite;\n",
              "  }\n",
              "\n",
              "  @keyframes spin {\n",
              "    0% {\n",
              "      border-color: transparent;\n",
              "      border-bottom-color: var(--fill-color);\n",
              "      border-left-color: var(--fill-color);\n",
              "    }\n",
              "    20% {\n",
              "      border-color: transparent;\n",
              "      border-left-color: var(--fill-color);\n",
              "      border-top-color: var(--fill-color);\n",
              "    }\n",
              "    30% {\n",
              "      border-color: transparent;\n",
              "      border-left-color: var(--fill-color);\n",
              "      border-top-color: var(--fill-color);\n",
              "      border-right-color: var(--fill-color);\n",
              "    }\n",
              "    40% {\n",
              "      border-color: transparent;\n",
              "      border-right-color: var(--fill-color);\n",
              "      border-top-color: var(--fill-color);\n",
              "    }\n",
              "    60% {\n",
              "      border-color: transparent;\n",
              "      border-right-color: var(--fill-color);\n",
              "    }\n",
              "    80% {\n",
              "      border-color: transparent;\n",
              "      border-right-color: var(--fill-color);\n",
              "      border-bottom-color: var(--fill-color);\n",
              "    }\n",
              "    90% {\n",
              "      border-color: transparent;\n",
              "      border-bottom-color: var(--fill-color);\n",
              "    }\n",
              "  }\n",
              "</style>\n",
              "\n",
              "      <script>\n",
              "        async function quickchart(key) {\n",
              "          const quickchartButtonEl =\n",
              "            document.querySelector('#' + key + ' button');\n",
              "          quickchartButtonEl.disabled = true;  // To prevent multiple clicks.\n",
              "          quickchartButtonEl.classList.add('colab-df-spinner');\n",
              "          try {\n",
              "            const charts = await google.colab.kernel.invokeFunction(\n",
              "                'suggestCharts', [key], {});\n",
              "          } catch (error) {\n",
              "            console.error('Error during call to suggestCharts:', error);\n",
              "          }\n",
              "          quickchartButtonEl.classList.remove('colab-df-spinner');\n",
              "          quickchartButtonEl.classList.add('colab-df-quickchart-complete');\n",
              "        }\n",
              "        (() => {\n",
              "          let quickchartButtonEl =\n",
              "            document.querySelector('#df-88cb2d61-3093-4f44-8602-7d123ee8ead8 button');\n",
              "          quickchartButtonEl.style.display =\n",
              "            google.colab.kernel.accessAllowed ? 'block' : 'none';\n",
              "        })();\n",
              "      </script>\n",
              "    </div>\n",
              "\n",
              "    </div>\n",
              "  </div>\n"
            ],
            "application/vnd.google.colaboratory.intrinsic+json": {
              "type": "dataframe",
              "variable_name": "X",
              "summary": "{\n  \"name\": \"X\",\n  \"rows\": 97,\n  \"fields\": [\n    {\n      \"column\": \"ones\",\n      \"properties\": {\n        \"dtype\": \"number\",\n        \"std\": 0,\n        \"min\": 1,\n        \"max\": 1,\n        \"num_unique_values\": 1,\n        \"samples\": [\n          1\n        ],\n        \"semantic_type\": \"\",\n        \"description\": \"\"\n      }\n    },\n    {\n      \"column\": \"Population\",\n      \"properties\": {\n        \"dtype\": \"number\",\n        \"std\": 3.869883527882332,\n        \"min\": 5.0269,\n        \"max\": 22.203,\n        \"num_unique_values\": 97,\n        \"samples\": [\n          21.279\n        ],\n        \"semantic_type\": \"\",\n        \"description\": \"\"\n      }\n    }\n  ]\n}"
            }
          },
          "metadata": {},
          "execution_count": 52
        }
      ]
    },
    {
      "cell_type": "code",
      "source": [
        "X.shape"
      ],
      "metadata": {
        "colab": {
          "base_uri": "https://localhost:8080/"
        },
        "id": "xdzztQFHCuB8",
        "outputId": "a2532695-a92a-4d5c-c6db-29c34cde68fd"
      },
      "id": "xdzztQFHCuB8",
      "execution_count": null,
      "outputs": [
        {
          "output_type": "execute_result",
          "data": {
            "text/plain": [
              "(97, 2)"
            ]
          },
          "metadata": {},
          "execution_count": 56
        }
      ]
    },
    {
      "cell_type": "code",
      "source": [
        "y.shape"
      ],
      "metadata": {
        "colab": {
          "base_uri": "https://localhost:8080/"
        },
        "id": "uOkfvCpVCwBd",
        "outputId": "cb2f867a-4b13-4f32-b485-4efd5f5b0953"
      },
      "id": "uOkfvCpVCwBd",
      "execution_count": null,
      "outputs": [
        {
          "output_type": "execute_result",
          "data": {
            "text/plain": [
              "(97, 1)"
            ]
          },
          "metadata": {},
          "execution_count": 58
        }
      ]
    },
    {
      "cell_type": "code",
      "source": [
        "# Initialize fitting parameters\n",
        "theta=np.zeros((2,1))"
      ],
      "metadata": {
        "id": "jEpUQghoK4QD"
      },
      "id": "jEpUQghoK4QD",
      "execution_count": null,
      "outputs": []
    },
    {
      "cell_type": "code",
      "source": [
        "theta.shape"
      ],
      "metadata": {
        "colab": {
          "base_uri": "https://localhost:8080/"
        },
        "id": "uUEWo31TC1oE",
        "outputId": "52176255-9a3a-4dd0-b32a-7e1c93b0c10a"
      },
      "id": "uUEWo31TC1oE",
      "execution_count": null,
      "outputs": [
        {
          "output_type": "execute_result",
          "data": {
            "text/plain": [
              "(2, 1)"
            ]
          },
          "metadata": {},
          "execution_count": 90
        }
      ]
    },
    {
      "cell_type": "code",
      "source": [
        "# Convert X, and y to numpy array\n",
        "X = np.array(X)\n"
      ],
      "metadata": {
        "id": "rbR8iTd7OLZY"
      },
      "id": "rbR8iTd7OLZY",
      "execution_count": null,
      "outputs": []
    },
    {
      "cell_type": "code",
      "source": [
        "y = np.array(y)"
      ],
      "metadata": {
        "id": "kUjbUFLMDfds"
      },
      "id": "kUjbUFLMDfds",
      "execution_count": null,
      "outputs": []
    },
    {
      "cell_type": "markdown",
      "id": "618cbdde",
      "metadata": {
        "id": "618cbdde"
      },
      "source": [
        "---\n",
        "\n",
        "## 🔢 Cost Function\n",
        "\n",
        "The objective of linear regression is to minimize the cost function:\n",
        "### Cost Function\n",
        "$$\n",
        "J(\\theta_0, \\theta_1) = \\frac{1}{2m} \\sum_{i=1}^m \\left( h_\\theta(x^{(i)}) - y^{(i)} \\right)^2\n",
        "$$\n",
        "\n",
        "### Hypothesis Function\n",
        "where  $$ \\hat{y}^{(i)}=h_\\theta(x^{(i)}) = \\theta_0 + \\theta_1 x^{(i)} $$ is the hypothesis.\n",
        "\n",
        "### ✏️ Exercise: compute_cost\n",
        "\n",
        "Complete the function below to compute cost."
      ]
    },
    {
      "cell_type": "code",
      "execution_count": null,
      "metadata": {
        "id": "c1i0brDtPJdz"
      },
      "outputs": [],
      "source": [
        "# ========== TODO: Compute Cost ==========\n",
        "\n",
        "def compute_cost(X, y, theta):\n",
        "    \"\"\"\n",
        "    Compute cost for linear regression\n",
        "    Arguments:\n",
        "    X : feature matrix (m x 2)\n",
        "    y : target vector (m x 1)\n",
        "    theta : parameter vector (2 x 1)\n",
        "    \"\"\"\n",
        "    m = len(y)\n",
        "    cost = 0\n",
        "    # ====================YOUR CODE HERE=========================\n",
        "\n",
        "    cost = (1/(2*m))*np.sum((X@theta - y) ** 2)\n",
        "\n",
        "    # ============================================================\n",
        "    # Note: The cost is stored in J, not 'cost'. Update the return statement.\n",
        "    return cost"
      ],
      "id": "c1i0brDtPJdz"
    },
    {
      "cell_type": "code",
      "source": [
        "  y_predicted=X@theta\n",
        "  y_predicted.shape"
      ],
      "metadata": {
        "colab": {
          "base_uri": "https://localhost:8080/"
        },
        "id": "0flC2geuMjKz",
        "outputId": "41aa96cf-4a1c-4412-f5b7-6c88a5f825be"
      },
      "id": "0flC2geuMjKz",
      "execution_count": null,
      "outputs": [
        {
          "output_type": "execute_result",
          "data": {
            "text/plain": [
              "(97, 1)"
            ]
          },
          "metadata": {},
          "execution_count": 92
        }
      ]
    },
    {
      "cell_type": "code",
      "source": [
        "#  cost=(1/(2*m)) * np.sum((x@theta-y) ** 2)"
      ],
      "metadata": {
        "id": "xRIEnxVCJB87"
      },
      "id": "xRIEnxVCJB87",
      "execution_count": null,
      "outputs": []
    },
    {
      "cell_type": "markdown",
      "source": [
        "**Below is a simple test cell to check your cost function. Run this to verify your output matches the expected value.**"
      ],
      "metadata": {
        "id": "joL17rgbLbYH"
      },
      "id": "joL17rgbLbYH"
    },
    {
      "cell_type": "code",
      "source": [
        "# === Test ===\n",
        "# Test cost at initial theta\n",
        "theta_test = np.zeros((2,1)) # Initialize as a NumPy array\n",
        "cost = compute_cost(X, y, theta_test)\n",
        "expected = 32.07  # Example expected cost value\n",
        "# Check if the cost is a pandas Series and extract the value\n",
        "if isinstance(cost, pd.Series):\n",
        "    cost = cost.iloc[0] # Assuming the first element is the cost value\n",
        "assert abs(cost - expected) < 1, f\"Cost function error: {cost} != {expected}\"\n",
        "print('✅ Cost function test passed.')"
      ],
      "metadata": {
        "id": "5fxcT_HsLXHe",
        "colab": {
          "base_uri": "https://localhost:8080/"
        },
        "outputId": "331654e6-9901-40cc-b5e8-5dc3a193a41d"
      },
      "id": "5fxcT_HsLXHe",
      "execution_count": null,
      "outputs": [
        {
          "output_type": "stream",
          "name": "stdout",
          "text": [
            "✅ Cost function test passed.\n"
          ]
        }
      ]
    },
    {
      "cell_type": "markdown",
      "id": "bf269836",
      "metadata": {
        "id": "bf269836"
      },
      "source": [
        "---\n",
        "\n",
        "## 🚀 Gradient Descent\n",
        "\n",
        "You will now implement **gradient descent** to minimize the cost.\n",
        "\n",
        "Each iteration performs:\n",
        "$$\n",
        "\\theta_j := \\theta_j - \\alpha \\frac{1}{m} \\sum_{i=1}^m \\left( h_\\theta(x^{(i)}) - y^{(i)} \\right)x_j^{(i)}\n",
        "$$\n",
        "### ✏️ Exercise: gradient_descent\n",
        "\n",
        "Complete the gradient descent function below."
      ]
    },
    {
      "cell_type": "code",
      "execution_count": null,
      "id": "0d171be1",
      "metadata": {
        "id": "0d171be1"
      },
      "outputs": [],
      "source": [
        "# ========== TODO: Gradient Descent ==========\n",
        "# === Gradient Descent ===\n",
        "def gradient_descent(X, y, theta, alpha, num_iters):\n",
        "    \"\"\"\n",
        "    Perform gradient descent to learn theta\n",
        "    \"\"\"\n",
        "    m = len(y)\n",
        "    cost_history = []\n",
        "\n",
        "    for i in range(num_iters):\n",
        "        # ====================== YOUR CODE HERE ======================\n",
        "        # TODO: perform a single gradient step on the parameter vector theta\n",
        "        theta = theta - (alpha / m) * X.T @ (X @ theta - y)\n",
        "        #theta=(-alpha/m)*np.sum(Temp)\n",
        "\n",
        "        # ============================================================\n",
        "        # Store the cost in every iteration\n",
        "        cost = compute_cost(X, y, theta)\n",
        "        cost_history.append(cost)\n",
        "\n",
        "    return theta, cost_history"
      ]
    },
    {
      "cell_type": "markdown",
      "id": "3a163c4e",
      "metadata": {
        "id": "3a163c4e"
      },
      "source": [
        "### 🧪 Running Gradient Descent\n",
        "\n",
        "We’ll now run our `gradient_descent()` function."
      ]
    },
    {
      "cell_type": "code",
      "execution_count": null,
      "id": "d968403a",
      "metadata": {
        "id": "d968403a",
        "colab": {
          "base_uri": "https://localhost:8080/"
        },
        "outputId": "4aed2e93-42ed-4547-c89f-e82b0b472ffd"
      },
      "outputs": [
        {
          "output_type": "stream",
          "name": "stdout",
          "text": [
            "Theta found by gradient descent: [[-3.78806857]\n",
            " [ 1.18221277]]\n",
            "The optimized value of cost J(theta) is 4.47802760987997\n"
          ]
        }
      ],
      "source": [
        "# Gradient descent settings\n",
        "iterations = 2000\n",
        "alpha = 0.01   # Learning rate\n",
        "\n",
        "# Run gradient descent\n",
        "Theta1, cost_history = gradient_descent(X, y, theta, alpha, iterations)\n",
        "\n",
        "# Print result\n",
        "print(\"Theta found by gradient descent:\", Theta1)\n",
        "print(f'The optimized value of cost J(theta) is {compute_cost(X,y,Theta1)}')"
      ]
    },
    {
      "cell_type": "markdown",
      "id": "0c098449",
      "metadata": {
        "id": "0c098449"
      },
      "source": [
        "### 📈 Plotting the Linear Fit"
      ]
    },
    {
      "cell_type": "code",
      "execution_count": null,
      "id": "f7b20094",
      "metadata": {
        "id": "f7b20094",
        "colab": {
          "base_uri": "https://localhost:8080/",
          "height": 480
        },
        "outputId": "168ca893-a593-4fd1-8f30-67868025e1f3"
      },
      "outputs": [
        {
          "output_type": "display_data",
          "data": {
            "text/plain": [
              "<Figure size 800x500 with 1 Axes>"
            ],
            "image/png": "[encoded data removed]"
          },
          "metadata": {}
        }
      ],
      "source": [
        "# Plot the linear fit\n",
        "plt.figure(figsize=(8,5))\n",
        "plt.plot(X[:,1], y, 'rx', label='Training data')\n",
        "plt.plot(X[:,1], X @ theta, '-', label='Linear regression')\n",
        "plt.xlabel('Population of City (10,000s)')\n",
        "plt.ylabel('Profit ($10,000s)')\n",
        "plt.title('Linear Regression Fit')\n",
        "plt.legend()\n",
        "plt.show()"
      ]
    },
    {
      "cell_type": "markdown",
      "id": "f3b2b1f6",
      "metadata": {
        "id": "f3b2b1f6"
      },
      "source": [
        "### 📉 Plotting Cost vs. Iterations"
      ]
    },
    {
      "cell_type": "code",
      "execution_count": null,
      "id": "26d2e417",
      "metadata": {
        "id": "26d2e417",
        "collapsed": true,
        "colab": {
          "base_uri": "https://localhost:8080/",
          "height": 403
        },
        "outputId": "c4640f12-1578-449a-f615-21d0f2e267ea"
      },
      "outputs": [
        {
          "output_type": "display_data",
          "data": {
            "text/plain": [
              "<Figure size 700x400 with 1 Axes>"
            ],
            "image/png": "[encoded data removed]"
          },
          "metadata": {}
        }
      ],
      "source": [
        "# Plot the cost function history\n",
        "plt.figure(figsize=(7,4))\n",
        "plt.plot(range(len(cost_history)), cost_history, 'b-')\n",
        "plt.xlabel('Number of iterations')\n",
        "plt.ylabel('Cost J')\n",
        "plt.title('Cost vs. Iterations')\n",
        "plt.show()"
      ]
    },
    {
      "cell_type": "markdown",
      "id": "bd87b68f",
      "metadata": {
        "id": "bd87b68f"
      },
      "source": [
        "### 🔮 Prediction\n",
        "\n",
        "Use the model to predict profits for populations of 35,000 and 70,000."
      ]
    },
    {
      "cell_type": "code",
      "execution_count": null,
      "id": "648fc08c",
      "metadata": {
        "id": "648fc08c",
        "collapsed": true
      },
      "outputs": [],
      "source": [
        "# Predict values for population sizes of 35,000 and 70,000\n",
        "predict1 = np.dot([1, 3.5], theta)\n",
        "predict2 = np.dot([1, 7.0], theta)\n",
        "print(f\"For population = 35,000, we predict a profit of ${predict1[0]*10000:.2f}\")\n",
        "print(f\"For population = 70,000, we predict a profit of ${predict2[0]*10000:.2f}\")"
      ]
    },
    {
      "cell_type": "markdown",
      "id": "6570bbc5",
      "metadata": {
        "id": "6570bbc5"
      },
      "source": [
        "---\n",
        "## 📖  **<font color='blue'><b>Part 2: Linear Regression with Multiple Variables**\n",
        "\n",
        "In this part, you'll implement linear regression with more than one feature.\n",
        "\n",
        "### 🏘️ Problem Statement\n",
        "\n",
        "Predict the price of a house using the dataset `ex2data2.csv`, which contains:\n",
        "\n",
        "- Size of the house (in square feet)\n",
        "- Number of bedrooms\n",
        "- Price of the house"
      ]
    },
    {
      "cell_type": "markdown",
      "id": "0cbfc6a8",
      "metadata": {
        "id": "0cbfc6a8"
      },
      "source": [
        "### 📈 Load and Inspect Data"
      ]
    },
    {
      "cell_type": "code",
      "execution_count": null,
      "id": "294faa21",
      "metadata": {
        "id": "294faa21"
      },
      "outputs": [],
      "source": [
        "# Load Data\n",
        "data2 = pd.read_csv(\"ex1data2.csv\", header=None, names=[\"Size\", \"Bedrooms\", \"Price\"])\n",
        "\n",
        "# Extract features and target\n",
        "X_multi =\n",
        "y_multi =\n",
        "m_multi =\n",
        "\n",
        "# Display first few rows of the data\n"
      ]
    },
    {
      "cell_type": "markdown",
      "id": "ab771c61",
      "metadata": {
        "id": "ab771c61"
      },
      "source": [
        "---\n",
        "\n",
        "### ⚖️ Feature Normalization\n",
        "\n",
        "It’s important to scale features when using gradient descent with multiple variables.\n",
        "\n",
        "Each feature is normalized as:\n",
        "\n",
        "$$\n",
        "x_i := \\frac{x_i - \\mu}{\\sigma}\n",
        "$$\n",
        "\n",
        "### ✏️ Exercise: feature_normalize\n",
        "\n",
        "Complete the function below to normalize features."
      ]
    },
    {
      "cell_type": "code",
      "execution_count": null,
      "id": "49d152e7",
      "metadata": {
        "id": "49d152e7"
      },
      "outputs": [],
      "source": [
        "# ========== TODO: Feature Normalization ==========\n",
        "def feature_normalize(X):\n",
        "    \"\"\"Normalize features by subtracting mean and dividing by std dev\"\"\"\n",
        "    # TODO: compute mean and std, normalize features\n",
        "    mu =\n",
        "    sigma =\n",
        "    X_norm =\n",
        "    # Add intercept term in X_norm\n",
        "\n",
        "\n",
        "    return X_norm, mu, sigma"
      ]
    },
    {
      "cell_type": "markdown",
      "id": "d2ecfa68",
      "metadata": {
        "id": "d2ecfa68"
      },
      "source": [
        "---\n",
        "\n",
        "### 🔢 Cost Function (Multivariate)\n",
        "\n",
        "Implement the vectorized cost function:\n",
        "\n",
        "$$\n",
        "J(\\theta) = \\frac{1}{2m} (X\\theta - y)^T (X\\theta - y)\n",
        "$$\n",
        "\n",
        "### ✏️ Exercise: compute_cost_multi"
      ]
    },
    {
      "cell_type": "code",
      "execution_count": null,
      "id": "1d5abb16",
      "metadata": {
        "id": "1d5abb16"
      },
      "outputs": [],
      "source": [
        "# ========== TODO: Vectorized Cost Function ==========\n",
        "def compute_cost_multi(X, y, theta):\n",
        "    \"\"\"Compute cost for linear regression with multiple variables\"\"\"\n",
        "    m = y.size\n",
        "    J = (1/(2*m)) * np.sum((X @ theta - y)**2)\n",
        "    # TODO: compute cost using vectorized operations\n",
        "    return J"
      ]
    },
    {
      "cell_type": "markdown",
      "id": "d44bdd75",
      "metadata": {
        "id": "d44bdd75"
      },
      "source": [
        "---\n",
        "\n",
        "### 🚀 Gradient Descent (Multivariate)\n",
        "\n",
        "Now implement gradient descent using matrix operations:\n",
        "\n",
        "$$\n",
        "\\theta := \\theta - \\frac{\\alpha}{m} X^T (X\\theta - y)\n",
        "$$\n",
        "\n",
        "### ✏️ Exercise: gradient_descent_multi"
      ]
    },
    {
      "cell_type": "code",
      "execution_count": null,
      "id": "24ccb10d",
      "metadata": {
        "id": "24ccb10d"
      },
      "outputs": [],
      "source": [
        "# ========== TODO: Vectorized Gradient Descent ==========\n",
        "def gradient_descent_multi(X, y, theta, alpha, num_iters):\n",
        "    \"\"\"Performs gradient descent to learn theta with multiple variables\"\"\"\n",
        "    m = y.size\n",
        "    J_history = []\n",
        "\n",
        "    for i in range(num_iters):\n",
        "        error = X @ theta - y\n",
        "        gradient = (1/m) * (X.T @ error)\n",
        "        theta -= alpha * gradient\n",
        "        cost = compute_cost_multi(X, y, theta)\n",
        "        J_history.append(cost)\n",
        "\n",
        "    return theta, J_history"
      ]
    },
    {
      "cell_type": "markdown",
      "id": "d8a2ec2d",
      "metadata": {
        "id": "d8a2ec2d"
      },
      "source": [
        "---\n",
        "\n",
        "### 🧪 Normalize, Train, and Plot\n",
        "\n",
        "Run gradient descent using your normalized features and functions."
      ]
    },
    {
      "cell_type": "code",
      "source": [
        "# Normalize features using feature_normalize() function\n",
        "\n"
      ],
      "metadata": {
        "id": "IoxB87dRbV2D"
      },
      "id": "IoxB87dRbV2D",
      "execution_count": null,
      "outputs": []
    },
    {
      "cell_type": "code",
      "source": [
        "# Convert X, and y to numpy array\n",
        "X_multi = np.array(  )\n",
        "y_multi = np.array(  )"
      ],
      "metadata": {
        "id": "7tTJ83TicWuC"
      },
      "id": "7tTJ83TicWuC",
      "execution_count": null,
      "outputs": []
    },
    {
      "cell_type": "code",
      "source": [
        "# Initialize paraemters theta\n",
        "theta_multi =\n"
      ],
      "metadata": {
        "id": "a1_qUX1Kcg5-"
      },
      "id": "a1_qUX1Kcg5-",
      "execution_count": null,
      "outputs": []
    },
    {
      "cell_type": "code",
      "source": [
        "#Verify  the shape of X_multi, y_multi and theta_multi using shape attribute\n",
        "\n"
      ],
      "metadata": {
        "id": "Fda73Az9crf8"
      },
      "id": "Fda73Az9crf8",
      "execution_count": null,
      "outputs": []
    },
    {
      "cell_type": "code",
      "execution_count": null,
      "id": "100029ba",
      "metadata": {
        "id": "100029ba",
        "collapsed": true
      },
      "outputs": [],
      "source": [
        "# Initialize hyperparameters\n",
        "alpha = 0.01\n",
        "num_iters = 400\n",
        "\n",
        "# Run gradient descent\n",
        "theta_multi, J_history_multi = gradient_descent_multi(X_multi, y_multi, theta_multi, alpha, num_iters)\n",
        "\n",
        "# Plot cost vs. iterations\n",
        "plt.plot(range(len(J_history_multi)), J_history_multi, 'b-')\n",
        "plt.xlabel('Iterations')\n",
        "plt.ylabel('Cost J')\n",
        "plt.title('Cost vs. Iterations (Multivariate)')\n",
        "plt.show()"
      ]
    },
    {
      "cell_type": "markdown",
      "id": "6a192246",
      "metadata": {
        "id": "6a192246"
      },
      "source": [
        "---\n",
        "\n",
        "### 🔮 Final Prediction\n",
        "\n",
        "Estimate the price of a house with:\n",
        "\n",
        "- 1650 sq-ft\n",
        "- 3 bedrooms"
      ]
    },
    {
      "cell_type": "code",
      "execution_count": null,
      "id": "6ca18eb1",
      "metadata": {
        "id": "6ca18eb1"
      },
      "outputs": [],
      "source": [
        "# Predict for a 1650 sq-ft, 3-bedroom house\n",
        "test_features = np.array([1650, 3])\n",
        "norm_features = (test_features - mu) / sigma\n",
        "test_input = np.concatenate(([1], norm_features))\n",
        "\n",
        "price = np.dot(test_input, theta_multi)\n",
        "print(f\"Predicted price of a 1650 sq-ft, 3 br house: ${price[0]:.2f}\")"
      ]
    },
    {
      "cell_type": "markdown",
      "source": [
        "---\n",
        "\n",
        "## **Final Note**\n",
        "\n",
        "**Once all the cells above run without errors and your predictions match expectations, you're ready to submit!**\n",
        "\n",
        "**Make sure you've completed all the `# TODO` blocks and verified outputs with the provided tests.** 🎉"
      ],
      "metadata": {
        "id": "OS69BFsVffKV"
      },
      "id": "OS69BFsVffKV"
    },
    {
      "cell_type": "markdown",
      "id": "72610e0f",
      "metadata": {
        "id": "72610e0f"
      },
      "source": [
        "---\n",
        "\n",
        "## 🎉 **Congratulations! **🎉\n",
        "\n",
        "You have successfully completed the implementation of:\n",
        "\n",
        "\n",
        "*  ✅ Linear Regression with One Variable\n",
        "*  ✅ Linear Regression with Multiple Variables\n",
        "*  ✅ Feature Normalization\n",
        "*  ✅ Vectorized Cost Function and Gradient Descent\n",
        "*  ✅ Cost vs. Iteration Visualization\n",
        "*  ✅ Real-world Predictions with your Model\n",
        "\n",
        "This is a big step in your machine learning journey. 🚀\n",
        "Keep up the great work and get ready to tackle even more exciting algorithms ahead!\n",
        "\n",
        "💡 Tip: Review your plots, test results, and predictions to solidify your understanding.\n",
        "\n",
        "See you in the next lab!\n",
        "Happy codding!\n"
      ]
    }
  ],
  "metadata": {
    "colab": {
      "provenance": [],
      "include_colab_link": true
    },
    "language_info": {
      "name": "python"
    },
    "kernelspec": {
      "name": "python3",
      "display_name": "Python 3"
    }
  },
  "nbformat": 4,
  "nbformat_minor": 5
}